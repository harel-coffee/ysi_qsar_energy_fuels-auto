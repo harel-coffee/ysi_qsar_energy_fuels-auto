{
 "cells": [
  {
   "cell_type": "code",
   "execution_count": 1,
   "metadata": {
    "collapsed": false
   },
   "outputs": [],
   "source": [
    "import numpy as np\n",
    "import pandas as pd\n",
    "\n",
    "import matplotlib.pyplot as plt\n",
    "import seaborn as sns\n",
    "sns.set_style('darkgrid')\n",
    "sns.set_context('talk', font_scale=1.5)\n",
    "sns.set(color_codes=True)\n",
    "\n",
    "%matplotlib inline"
   ]
  },
  {
   "cell_type": "code",
   "execution_count": 2,
   "metadata": {
    "collapsed": false
   },
   "outputs": [
    {
     "name": "stderr",
     "output_type": "stream",
     "text": [
      "Using Theano backend.\n"
     ]
    }
   ],
   "source": [
    "import warnings\n",
    "with warnings.catch_warnings():\n",
    "    warnings.simplefilter(\"ignore\")\n",
    "\n",
    "    from ysi_utils.models import outlier_model, bagging_model, ensemble_predict\n",
    "    ensemble_predict.bagging_model = bagging_model()"
   ]
  },
  {
   "cell_type": "code",
   "execution_count": 3,
   "metadata": {
    "collapsed": false
   },
   "outputs": [],
   "source": [
    "from ysi_utils.descriptors import dragon_ron\n",
    "from ysi_utils.data import ron, low, addl_mols\n",
    "from ysi_utils.tools.descriptors import get_element_dict, get_DBE\n",
    "from ysi_utils.tools import chemical_conversions\n",
    "\n",
    "#ron.SMILES = ron.SMILES.apply(chemical_conversions.canonicalize_smiles)\n",
    "\n",
    "valid_ron = ron[~ron.RON.str.contains('>')].copy()\n",
    "valid_ron.RON = valid_ron.RON.astype('float')"
   ]
  },
  {
   "cell_type": "code",
   "execution_count": 4,
   "metadata": {
    "collapsed": false
   },
   "outputs": [],
   "source": [
    "ron_df = valid_ron.set_index('SMILES')\n",
    "ron_df['inlier'] = outlier_model.predict(dragon_ron.loc[ron_df.index]) == 1"
   ]
  },
  {
   "cell_type": "code",
   "execution_count": 5,
   "metadata": {
    "collapsed": false
   },
   "outputs": [
    {
     "data": {
      "text/html": [
       "<div>\n",
       "<table border=\"1\" class=\"dataframe\">\n",
       "  <thead>\n",
       "    <tr style=\"text-align: right;\">\n",
       "      <th></th>\n",
       "      <th>IUPAC name</th>\n",
       "      <th>CAS</th>\n",
       "      <th>RON</th>\n",
       "      <th>source RON</th>\n",
       "      <th>inlier</th>\n",
       "      <th>YSI</th>\n",
       "      <th>YSI_std</th>\n",
       "    </tr>\n",
       "    <tr>\n",
       "      <th>SMILES</th>\n",
       "      <th></th>\n",
       "      <th></th>\n",
       "      <th></th>\n",
       "      <th></th>\n",
       "      <th></th>\n",
       "      <th></th>\n",
       "      <th></th>\n",
       "    </tr>\n",
       "  </thead>\n",
       "  <tbody>\n",
       "    <tr>\n",
       "      <th>C=CCCCC</th>\n",
       "      <td>1-Hexene</td>\n",
       "      <td>592-41-6</td>\n",
       "      <td>76.0</td>\n",
       "      <td>API Report</td>\n",
       "      <td>True</td>\n",
       "      <td>15.235844</td>\n",
       "      <td>1.730438</td>\n",
       "    </tr>\n",
       "    <tr>\n",
       "      <th>CC(C)=CC(C)C</th>\n",
       "      <td>2,4-dimethyl-2-pentene</td>\n",
       "      <td>625-65-0</td>\n",
       "      <td>100.0</td>\n",
       "      <td>API Report</td>\n",
       "      <td>True</td>\n",
       "      <td>58.909860</td>\n",
       "      <td>5.397653</td>\n",
       "    </tr>\n",
       "    <tr>\n",
       "      <th>Cc1ccc(C)o1</th>\n",
       "      <td>2,5-Dimethylfuran</td>\n",
       "      <td>625-86-5</td>\n",
       "      <td>101.3</td>\n",
       "      <td>API Report</td>\n",
       "      <td>False</td>\n",
       "      <td>73.031421</td>\n",
       "      <td>11.812839</td>\n",
       "    </tr>\n",
       "    <tr>\n",
       "      <th>CC(C)CCCC(C)C</th>\n",
       "      <td>2,6- Dimethylheptane</td>\n",
       "      <td>1072-05-5</td>\n",
       "      <td>36.0</td>\n",
       "      <td>Ind. Eng. Chem., 1941, 33 (4), pp 554-560</td>\n",
       "      <td>True</td>\n",
       "      <td>49.168216</td>\n",
       "      <td>3.759263</td>\n",
       "    </tr>\n",
       "    <tr>\n",
       "      <th>CCC(C)O</th>\n",
       "      <td>2-butanol</td>\n",
       "      <td>78-92-2</td>\n",
       "      <td>107.0</td>\n",
       "      <td>Christensen, 2011</td>\n",
       "      <td>True</td>\n",
       "      <td>-7.394225</td>\n",
       "      <td>1.031740</td>\n",
       "    </tr>\n",
       "  </tbody>\n",
       "</table>\n",
       "</div>"
      ],
      "text/plain": [
       "                           IUPAC name        CAS    RON  \\\n",
       "SMILES                                                    \n",
       "C=CCCCC                      1-Hexene   592-41-6   76.0   \n",
       "CC(C)=CC(C)C   2,4-dimethyl-2-pentene   625-65-0  100.0   \n",
       "Cc1ccc(C)o1         2,5-Dimethylfuran   625-86-5  101.3   \n",
       "CC(C)CCCC(C)C    2,6- Dimethylheptane  1072-05-5   36.0   \n",
       "CCC(C)O                     2-butanol    78-92-2  107.0   \n",
       "\n",
       "                                              source RON inlier        YSI  \\\n",
       "SMILES                                                                       \n",
       "C=CCCCC                                       API Report   True  15.235844   \n",
       "CC(C)=CC(C)C                                  API Report   True  58.909860   \n",
       "Cc1ccc(C)o1                                   API Report  False  73.031421   \n",
       "CC(C)CCCC(C)C  Ind. Eng. Chem., 1941, 33 (4), pp 554-560   True  49.168216   \n",
       "CCC(C)O                                Christensen, 2011   True  -7.394225   \n",
       "\n",
       "                 YSI_std  \n",
       "SMILES                    \n",
       "C=CCCCC         1.730438  \n",
       "CC(C)=CC(C)C    5.397653  \n",
       "Cc1ccc(C)o1    11.812839  \n",
       "CC(C)CCCC(C)C   3.759263  \n",
       "CCC(C)O         1.031740  "
      ]
     },
     "execution_count": 5,
     "metadata": {},
     "output_type": "execute_result"
    }
   ],
   "source": [
    "predictions = pd.DataFrame(ensemble_predict(dragon_ron.loc[ron_df.index]), index=ron_df.index)\n",
    "ron_df['YSI'] = predictions.mean(1)\n",
    "ron_df['YSI_std'] = predictions.std(1)\n",
    "ron_df.head()"
   ]
  },
  {
   "cell_type": "code",
   "execution_count": 6,
   "metadata": {
    "collapsed": false
   },
   "outputs": [],
   "source": [
    "low_join = low.append(addl_mols.rename(columns={'Name': 'Species'}))"
   ]
  },
  {
   "cell_type": "code",
   "execution_count": 7,
   "metadata": {
    "collapsed": false
   },
   "outputs": [],
   "source": [
    "measured_ysi = low_join.loc[low_join.SMILES.isin(ron_df.index)].set_index('SMILES')['YSI']\n",
    "ron_df['measured_ysi'] = ron_df.index.isin(measured_ysi.index)\n",
    "ron_df.loc[measured_ysi.index, 'YSI'] = measured_ysi\n",
    "ron_df.loc[measured_ysi.index, 'YSI_std'] = 0.58"
   ]
  },
  {
   "cell_type": "markdown",
   "metadata": {},
   "source": [
    "Drop points that neither have a measured YSI value nor pass the applicability domain test"
   ]
  },
  {
   "cell_type": "code",
   "execution_count": 9,
   "metadata": {
    "collapsed": false
   },
   "outputs": [],
   "source": [
    "ron_df = ron_df[~((~ron_df.inlier) & (~ron_df.measured_ysi))]"
   ]
  },
  {
   "cell_type": "code",
   "execution_count": 28,
   "metadata": {
    "collapsed": false
   },
   "outputs": [
    {
     "data": {
      "text/plain": [
       "'Measured values for 58 of 69 fuels'"
      ]
     },
     "execution_count": 28,
     "metadata": {},
     "output_type": "execute_result"
    }
   ],
   "source": [
    "'Measured values for {0} of {1} fuels'.format(sum(ron_df.measured_ysi), len(ron_df))"
   ]
  },
  {
   "cell_type": "code",
   "execution_count": 11,
   "metadata": {
    "collapsed": false
   },
   "outputs": [],
   "source": [
    "from ysi_utils.tools.descriptors import get_element_dict\n",
    "is_oxygenate = ron_df.reset_index().SMILES.apply(get_element_dict).fillna(0)['O'] > 0\n",
    "is_oxygenate.index = ron_df.index\n",
    "\n",
    "ron_df['type'] = 'hydrocarbon'\n",
    "ron_df.loc[is_oxygenate, 'type'] = 'oxygenate'"
   ]
  },
  {
   "cell_type": "code",
   "execution_count": 19,
   "metadata": {
    "collapsed": false
   },
   "outputs": [],
   "source": [
    "ron_df['color'] = pd.Series(['b', 'r']).loc[is_oxygenate.astype(int)].values"
   ]
  },
  {
   "cell_type": "code",
   "execution_count": 29,
   "metadata": {
    "collapsed": false
   },
   "outputs": [
    {
     "data": {
      "image/png": "[encoded data removed]",
      "text/plain": [
       "<matplotlib.figure.Figure at 0x14cf6cb00>"
      ]
     },
     "metadata": {},
     "output_type": "display_data"
    }
   ],
   "source": [
    "from matplotlib.lines import Line2D\n",
    "\n",
    "with sns.axes_style('ticks'):\n",
    "    fig = plt.figure(figsize=(4,4))\n",
    "    ax = fig.add_subplot(111)\n",
    "    \n",
    "    for index, row in ron_df.iterrows():\n",
    "        \n",
    "           \n",
    "        #ax.errorbar(ron, ysi, yerr=1.96*err, marker=m, c=c, markersize=ms,\n",
    "        #            markeredgewidth=lw, elinewidth=1, capsize=0)\n",
    "        \n",
    "        if row.measured_ysi:\n",
    "            ax.plot(row.RON, row.YSI, marker='o', c=row.color, markersize=4.5, markeredgewidth=0)\n",
    "        else:\n",
    "            ax.errorbar(row.RON, row.YSI, yerr=1.96*row.YSI_std, marker='o', c=row.color, markersize=4.5,\n",
    "                        markeredgewidth=1, elinewidth=1, capsize=0)\n",
    "    \n",
    "    hydrocarbon = Line2D([1],[1], color='b', marker='o', markerfacecolor='b', lw=0, markersize=4.5)\n",
    "    oxygenate = Line2D([1],[1], color='b', marker='o', markerfacecolor='r', lw=0, markersize=4.5)\n",
    "    #aromatic = Line2D([1],[1], color='b', marker='x', markerfacecolor='r', lw=0, markersize=5, markeredgewidth=2)\n",
    "    #oaromatic = Line2D([1],[1], color='r', marker='x', markerfacecolor='r', lw=0, markersize=5, markeredgewidth=2)\n",
    "\n",
    "\n",
    "    \n",
    "    ax.set_xlim([0, 140])\n",
    "    ax.set_ylim([-40, 100])\n",
    "\n",
    "    \n",
    "    ax.legend((hydrocarbon, oxygenate),\n",
    "              ('Hydrocarbon', 'Oxygenate'), loc='lower left', ncol=1)\n",
    "    sns.despine()\n",
    "    \n",
    "    ax.set_xlabel('Research Octane Number')\n",
    "    ax.set_ylabel('Yield Sooting Index')\n",
    "    \n",
    "    fig.tight_layout()\n",
    "    fig.savefig('ysi_vs_ron.svg', transparent=True)"
   ]
  },
  {
   "cell_type": "code",
   "execution_count": 22,
   "metadata": {
    "collapsed": false
   },
   "outputs": [
    {
     "data": {
      "text/plain": [
       "IUPAC name      2,4-dimethyl-2-pentene\n",
       "CAS                           625-65-0\n",
       "RON                                100\n",
       "source RON                  API Report\n",
       "inlier                            True\n",
       "YSI                            58.9099\n",
       "YSI_std                        5.39765\n",
       "measured_ysi                     False\n",
       "type                       hydrocarbon\n",
       "color                                b\n",
       "Name: CC(C)=CC(C)C, dtype: object"
      ]
     },
     "execution_count": 22,
     "metadata": {},
     "output_type": "execute_result"
    }
   ],
   "source": [
    "row"
   ]
  },
  {
   "cell_type": "code",
   "execution_count": 22,
   "metadata": {
    "collapsed": false
   },
   "outputs": [
    {
     "name": "stdout",
     "output_type": "stream",
     "text": [
      "                           RON   YSI\n",
      "IUPAC name                          \n",
      "2-Butanone               105.3 -20.5\n",
      "n-Propanol               104.0 -22.0\n",
      "Acetic acid ethyl ester  118.0 -26.4\n",
      "Ethanol                  109.0 -31.1\n",
      "2-Propanone              111.3 -26.9\n",
      "Methanol                 109.0 -36.9\n"
     ]
    }
   ],
   "source": [
    "print(ron_df[(ron_df.YSI < -20) & (ron_df.RON > 100)].loc[:, ['IUPAC name', 'RON', 'YSI']].set_index('IUPAC name'))"
   ]
  },
  {
   "cell_type": "code",
   "execution_count": 25,
   "metadata": {
    "collapsed": false
   },
   "outputs": [],
   "source": [
    "output_df = ron_df.copy()\n",
    "output_df['YSI source'] = 'Model Prediction'\n",
    "output_df.loc[measured_ysi.index, 'YSI source'] = 'McEnally & Pfefferle, 2011'\n",
    "output_df['RON source'] = output_df['source RON']\n",
    "output_df = output_df.drop(['type', 'source RON'], 1)\n",
    "output_df.reset_index(drop=True).to_csv('ron_ysi_predictions.csv', index=False, float_format='%.3f')"
   ]
  },
  {
   "cell_type": "code",
   "execution_count": 27,
   "metadata": {
    "collapsed": false
   },
   "outputs": [
    {
     "data": {
      "text/html": [
       "<div>\n",
       "<table border=\"1\" class=\"dataframe\">\n",
       "  <thead>\n",
       "    <tr style=\"text-align: right;\">\n",
       "      <th></th>\n",
       "      <th>IUPAC name</th>\n",
       "      <th>CAS</th>\n",
       "      <th>RON</th>\n",
       "      <th>source RON</th>\n",
       "      <th>inlier</th>\n",
       "      <th>YSI</th>\n",
       "      <th>YSI_std</th>\n",
       "      <th>measured_ysi</th>\n",
       "      <th>type</th>\n",
       "    </tr>\n",
       "    <tr>\n",
       "      <th>SMILES</th>\n",
       "      <th></th>\n",
       "      <th></th>\n",
       "      <th></th>\n",
       "      <th></th>\n",
       "      <th></th>\n",
       "      <th></th>\n",
       "      <th></th>\n",
       "      <th></th>\n",
       "      <th></th>\n",
       "    </tr>\n",
       "  </thead>\n",
       "  <tbody>\n",
       "    <tr>\n",
       "      <th>CO</th>\n",
       "      <td>Methanol</td>\n",
       "      <td>67-56-1</td>\n",
       "      <td>109.0</td>\n",
       "      <td>Anderson, et al., 2010</td>\n",
       "      <td>False</td>\n",
       "      <td>-36.9</td>\n",
       "      <td>0.58</td>\n",
       "      <td>True</td>\n",
       "      <td>oxygenate</td>\n",
       "    </tr>\n",
       "    <tr>\n",
       "      <th>CCO</th>\n",
       "      <td>Ethanol</td>\n",
       "      <td>64-17-5</td>\n",
       "      <td>109.0</td>\n",
       "      <td>Hunwartzen, I SAE Paper 82002, 1982. DOI: 10.4...</td>\n",
       "      <td>False</td>\n",
       "      <td>-31.1</td>\n",
       "      <td>0.58</td>\n",
       "      <td>True</td>\n",
       "      <td>oxygenate</td>\n",
       "    </tr>\n",
       "    <tr>\n",
       "      <th>CC(C)=O</th>\n",
       "      <td>2-Propanone</td>\n",
       "      <td>67-64-1</td>\n",
       "      <td>111.3</td>\n",
       "      <td>NaN</td>\n",
       "      <td>False</td>\n",
       "      <td>-26.9</td>\n",
       "      <td>0.58</td>\n",
       "      <td>True</td>\n",
       "      <td>oxygenate</td>\n",
       "    </tr>\n",
       "    <tr>\n",
       "      <th>CCOC(C)=O</th>\n",
       "      <td>Acetic acid ethyl ester</td>\n",
       "      <td>141-78-6</td>\n",
       "      <td>118.0</td>\n",
       "      <td>NREL, March 2016 JCE-4-42309-01, WO #56</td>\n",
       "      <td>True</td>\n",
       "      <td>-26.4</td>\n",
       "      <td>0.58</td>\n",
       "      <td>True</td>\n",
       "      <td>oxygenate</td>\n",
       "    </tr>\n",
       "    <tr>\n",
       "      <th>CCCO</th>\n",
       "      <td>n-Propanol</td>\n",
       "      <td>71-23-8</td>\n",
       "      <td>104.0</td>\n",
       "      <td>Christensen, 2011</td>\n",
       "      <td>True</td>\n",
       "      <td>-22.0</td>\n",
       "      <td>0.58</td>\n",
       "      <td>True</td>\n",
       "      <td>oxygenate</td>\n",
       "    </tr>\n",
       "  </tbody>\n",
       "</table>\n",
       "</div>"
      ],
      "text/plain": [
       "                        IUPAC name       CAS    RON  \\\n",
       "SMILES                                                \n",
       "CO                        Methanol   67-56-1  109.0   \n",
       "CCO                        Ethanol   64-17-5  109.0   \n",
       "CC(C)=O                2-Propanone   67-64-1  111.3   \n",
       "CCOC(C)=O  Acetic acid ethyl ester  141-78-6  118.0   \n",
       "CCCO                    n-Propanol   71-23-8  104.0   \n",
       "\n",
       "                                                  source RON inlier   YSI  \\\n",
       "SMILES                                                                      \n",
       "CO                                    Anderson, et al., 2010  False -36.9   \n",
       "CCO        Hunwartzen, I SAE Paper 82002, 1982. DOI: 10.4...  False -31.1   \n",
       "CC(C)=O                                                  NaN  False -26.9   \n",
       "CCOC(C)=O            NREL, March 2016 JCE-4-42309-01, WO #56   True -26.4   \n",
       "CCCO                                       Christensen, 2011   True -22.0   \n",
       "\n",
       "           YSI_std measured_ysi       type  \n",
       "SMILES                                      \n",
       "CO            0.58         True  oxygenate  \n",
       "CCO           0.58         True  oxygenate  \n",
       "CC(C)=O       0.58         True  oxygenate  \n",
       "CCOC(C)=O     0.58         True  oxygenate  \n",
       "CCCO          0.58         True  oxygenate  "
      ]
     },
     "execution_count": 27,
     "metadata": {},
     "output_type": "execute_result"
    }
   ],
   "source": [
    "ron_df[ron_df.type == 'oxygenate'].sort_values('YSI').head()"
   ]
  }
 ],
 "metadata": {
  "anaconda-cloud": {},
  "kernelspec": {
   "display_name": "Python [conda env:ysi]",
   "language": "python",
   "name": "conda-env-ysi-py"
  },
  "language_info": {
   "codemirror_mode": {
    "name": "ipython",
    "version": 3
   },
   "file_extension": ".py",
   "mimetype": "text/x-python",
   "name": "python",
   "nbconvert_exporter": "python",
   "pygments_lexer": "ipython3",
   "version": "3.5.2"
  }
 },
 "nbformat": 4,
 "nbformat_minor": 0
}
