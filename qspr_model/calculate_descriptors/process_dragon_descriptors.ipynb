{
 "cells": [
  {
   "cell_type": "code",
   "execution_count": 1,
   "metadata": {
    "collapsed": true
   },
   "outputs": [],
   "source": [
    "import numpy as np\n",
    "import pandas as pd\n",
    "\n",
    "import matplotlib.pyplot as plt\n",
    "import seaborn as sns\n",
    "sns.set_style('darkgrid')\n",
    "sns.set_context('talk', font_scale=1.5)\n",
    "sns.set(color_codes=True)\n",
    "\n",
    "%matplotlib inline"
   ]
  },
  {
   "cell_type": "code",
   "execution_count": 2,
   "metadata": {
    "collapsed": false
   },
   "outputs": [],
   "source": [
    "from ysi_utils.data import low\n",
    "from ysi_utils.tools import descriptors, chemical_conversions"
   ]
  },
  {
   "cell_type": "markdown",
   "metadata": {},
   "source": [
    "### Optimize 3D geometry in preparation for the dragon MD library"
   ]
  },
  {
   "cell_type": "code",
   "execution_count": 3,
   "metadata": {
    "collapsed": false
   },
   "outputs": [],
   "source": [
    "smiles = low.loc[:, ['SMILES', 'CAS']].drop_duplicates()"
   ]
  },
  {
   "cell_type": "code",
   "execution_count": 4,
   "metadata": {
    "collapsed": false
   },
   "outputs": [],
   "source": [
    "addl_molecules = [\n",
    "    ['cyclopentanone',        '120-92-3'],\n",
    "    ['2-methylbut-3-en-2-ol', '115-18-4'],\n",
    "    ['2,5-dimethylfuran',     '625-86-5'],\n",
    "]\n",
    "\n",
    "molecule_df = pd.DataFrame(addl_molecules, columns=['Name', 'CAS'])\n",
    "molecule_df['SMILES'] = molecule_df.CAS\\\n",
    "    .apply(chemical_conversions.get_smiles_from_cas)\\\n",
    "    .apply(chemical_conversions.canonicalize_smiles)\n",
    "    \n",
    "    \n",
    "smiles = smiles.append(molecule_df.loc[:, ['CAS', 'SMILES']])"
   ]
  },
  {
   "cell_type": "code",
   "execution_count": 5,
   "metadata": {
    "collapsed": false
   },
   "outputs": [
    {
     "name": "stderr",
     "output_type": "stream",
     "text": [
      "100%|██████████| 300/300 [00:02<00:00, 120.65it/s]\n"
     ]
    }
   ],
   "source": [
    "descriptors.write_sdf(smiles.SMILES, smiles.CAS,\n",
    "                      output_file='dragon_input.sdf')"
   ]
  },
  {
   "cell_type": "markdown",
   "metadata": {},
   "source": [
    "### Load resulting molecular descriptors\n",
    "Generated via \n",
    "```\n",
    "dragon7shell -s dragon_script.drt\n",
    "dragon7shell -s dragon_script_qm.drt\n",
    "```"
   ]
  },
  {
   "cell_type": "code",
   "execution_count": 20,
   "metadata": {
    "collapsed": false
   },
   "outputs": [],
   "source": [
    "dragon_descriptors = pd.read_csv('dragon_output.tsv', sep='\\t', index_col=0)\n",
    "dragon_descriptors.index = smiles.SMILES\n",
    "dragon_descriptors.drop('NAME', 1, inplace=True)\n",
    "\n",
    "dragon_descriptors.to_pickle('../../ysi_utils/descriptors/dragon.p')"
   ]
  },
  {
   "cell_type": "code",
   "execution_count": 21,
   "metadata": {
    "collapsed": true
   },
   "outputs": [],
   "source": [
    "dragon_descriptors_qm = pd.read_csv('dragon_output_qm.tsv', sep='\\t', index_col=0)\n",
    "dragon_descriptors_qm.index = pd.read_pickle('qm_input_key.p').SMILES\n",
    "dragon_descriptors_qm.drop('NAME', 1, inplace=True)\n",
    "\n",
    "dragon_descriptors_qm = dragon_descriptors_qm.loc[smiles.SMILES]\n",
    "\n",
    "dragon_descriptors_qm.to_pickle('../../ysi_utils/descriptors/dragon_qm.p')"
   ]
  }
 ],
 "metadata": {
  "anaconda-cloud": {},
  "kernelspec": {
   "display_name": "Python [Root]",
   "language": "python",
   "name": "Python [Root]"
  },
  "language_info": {
   "codemirror_mode": {
    "name": "ipython",
    "version": 3
   },
   "file_extension": ".py",
   "mimetype": "text/x-python",
   "name": "python",
   "nbconvert_exporter": "python",
   "pygments_lexer": "ipython3",
   "version": "3.5.2"
  }
 },
 "nbformat": 4,
 "nbformat_minor": 0
}
