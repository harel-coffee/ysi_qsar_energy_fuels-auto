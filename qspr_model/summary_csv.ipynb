{
 "cells": [
  {
   "cell_type": "markdown",
   "metadata": {},
   "source": [
    "# Generating the supplemental data file\n",
    "Concatenate cross-validation and ensemble prediction results into a single CSV"
   ]
  },
  {
   "cell_type": "code",
   "execution_count": 1,
   "metadata": {
    "collapsed": true
   },
   "outputs": [],
   "source": [
    "from ysi_utils.data import low, addl_mols\n",
    "from ysi_utils.descriptors import dragon\n",
    "from ysi_utils.validation import y_train as train\n",
    "from ysi_utils.validation import y_test"
   ]
  },
  {
   "cell_type": "code",
   "execution_count": 2,
   "metadata": {
    "collapsed": false
   },
   "outputs": [],
   "source": [
    "train['Group'] = 'train'\n",
    "y_test['Group'] = 'test'\n",
    "addl_mols['Group'] = 'experiment'"
   ]
  },
  {
   "cell_type": "code",
   "execution_count": 3,
   "metadata": {
    "collapsed": false
   },
   "outputs": [],
   "source": [
    "# Add the new molecules to the test set\n",
    "raddl_mols = addl_mols.rename(columns={'Name': 'Species'})\n",
    "raddl_mols['Type'] = 'New Compounds'\n",
    "raddl_mols['Ref'] = 0\n",
    "test = y_test.append(raddl_mols.set_index('SMILES'))\n",
    "\n",
    "X = dragon.loc[train.index]\n",
    "X_test = dragon.loc[test.index]"
   ]
  },
  {
   "cell_type": "code",
   "execution_count": 4,
   "metadata": {
    "collapsed": false
   },
   "outputs": [
    {
     "name": "stderr",
     "output_type": "stream",
     "text": [
      "Using Theano backend.\n"
     ]
    }
   ],
   "source": [
    "import warnings\n",
    "with warnings.catch_warnings():\n",
    "    warnings.simplefilter(\"ignore\")\n",
    "    \n",
    "    from ysi_utils.models import outlier_model, bagging_model, ensemble_predict\n",
    "    ensemble_predict.bagging_model = bagging_model()"
   ]
  },
  {
   "cell_type": "code",
   "execution_count": 5,
   "metadata": {
    "collapsed": true
   },
   "outputs": [],
   "source": [
    "y_test_predictions = ensemble_predict(X_test)\n",
    "y_train_predictions = ensemble_predict(X.values)"
   ]
  },
  {
   "cell_type": "code",
   "execution_count": 6,
   "metadata": {
    "collapsed": true
   },
   "outputs": [],
   "source": [
    "import pandas as pd\n",
    "\n",
    "y_cv_df = pd.read_pickle('y_cv_random_results.p')"
   ]
  },
  {
   "cell_type": "code",
   "execution_count": 7,
   "metadata": {
    "collapsed": false
   },
   "outputs": [],
   "source": [
    "train['YSI_pred_mean'] = y_train_predictions.mean(1)\n",
    "train['YSI_pred_std'] = y_train_predictions.std(1)\n",
    "\n",
    "train['YSI_cv_mean'] = y_cv_df.mean(1)\n",
    "train['YSI_cv_std'] = y_cv_df.std(1)\n",
    "\n",
    "test['YSI_pred_mean'] = y_test_predictions.mean(1)\n",
    "test['YSI_pred_std'] = y_test_predictions.std(1)"
   ]
  },
  {
   "cell_type": "code",
   "execution_count": 8,
   "metadata": {
    "collapsed": false
   },
   "outputs": [],
   "source": [
    "train.append(test).reset_index().to_csv('prediction_summary.csv', float_format='%.2f')"
   ]
  },
  {
   "cell_type": "code",
   "execution_count": null,
   "metadata": {
    "collapsed": true
   },
   "outputs": [],
   "source": []
  }
 ],
 "metadata": {
  "anaconda-cloud": {},
  "kernelspec": {
   "display_name": "Python [conda env:ysi]",
   "language": "python",
   "name": "conda-env-ysi-py"
  },
  "language_info": {
   "codemirror_mode": {
    "name": "ipython",
    "version": 3
   },
   "file_extension": ".py",
   "mimetype": "text/x-python",
   "name": "python",
   "nbconvert_exporter": "python",
   "pygments_lexer": "ipython3",
   "version": "3.5.2"
  }
 },
 "nbformat": 4,
 "nbformat_minor": 1
}
