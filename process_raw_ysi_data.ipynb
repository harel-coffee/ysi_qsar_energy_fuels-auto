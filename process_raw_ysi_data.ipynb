{
 "cells": [
  {
   "cell_type": "code",
   "execution_count": 1,
   "metadata": {
    "collapsed": true
   },
   "outputs": [],
   "source": [
    "import pandas as pd"
   ]
  },
  {
   "cell_type": "code",
   "execution_count": 3,
   "metadata": {
    "collapsed": false
   },
   "outputs": [
    {
     "data": {
      "text/html": [
       "<div>\n",
       "<table border=\"1\" class=\"dataframe\">\n",
       "  <thead>\n",
       "    <tr style=\"text-align: right;\">\n",
       "      <th></th>\n",
       "      <th>Species</th>\n",
       "      <th>Type</th>\n",
       "      <th>CAS</th>\n",
       "      <th>Ref</th>\n",
       "      <th>YSI</th>\n",
       "    </tr>\n",
       "  </thead>\n",
       "  <tbody>\n",
       "    <tr>\n",
       "      <th>0</th>\n",
       "      <td>n-pentane</td>\n",
       "      <td>Linear Alkanes</td>\n",
       "      <td>109-66-0</td>\n",
       "      <td>3</td>\n",
       "      <td>-8.9</td>\n",
       "    </tr>\n",
       "    <tr>\n",
       "      <th>1</th>\n",
       "      <td>n-hexane</td>\n",
       "      <td>Linear Alkanes</td>\n",
       "      <td>110-54-3</td>\n",
       "      <td>3</td>\n",
       "      <td>0.0</td>\n",
       "    </tr>\n",
       "    <tr>\n",
       "      <th>2</th>\n",
       "      <td>2-methylpentane</td>\n",
       "      <td>Linear Alkanes</td>\n",
       "      <td>107-83-5</td>\n",
       "      <td>3</td>\n",
       "      <td>9.8</td>\n",
       "    </tr>\n",
       "    <tr>\n",
       "      <th>3</th>\n",
       "      <td>3-methylpentane</td>\n",
       "      <td>Linear Alkanes</td>\n",
       "      <td>96-14-0</td>\n",
       "      <td>3</td>\n",
       "      <td>12.2</td>\n",
       "    </tr>\n",
       "    <tr>\n",
       "      <th>4</th>\n",
       "      <td>2,2-dimethylbutane</td>\n",
       "      <td>Linear Alkanes</td>\n",
       "      <td>75-83-2</td>\n",
       "      <td>3</td>\n",
       "      <td>20.2</td>\n",
       "    </tr>\n",
       "  </tbody>\n",
       "</table>\n",
       "</div>"
      ],
      "text/plain": [
       "              Species            Type       CAS  Ref   YSI\n",
       "0           n-pentane  Linear Alkanes  109-66-0    3  -8.9\n",
       "1            n-hexane  Linear Alkanes  110-54-3    3   0.0\n",
       "2     2-methylpentane  Linear Alkanes  107-83-5    3   9.8\n",
       "3     3-methylpentane  Linear Alkanes   96-14-0    3  12.2\n",
       "4  2,2-dimethylbutane  Linear Alkanes   75-83-2    3  20.2"
      ]
     },
     "execution_count": 3,
     "metadata": {},
     "output_type": "execute_result"
    }
   ],
   "source": [
    "low = pd.read_csv('ysi_utils/data/raw/low.csv')\n",
    "low.head()"
   ]
  },
  {
   "cell_type": "code",
   "execution_count": 4,
   "metadata": {
    "collapsed": false
   },
   "outputs": [],
   "source": [
    "from ysi_utils.tools.chemical_conversions import (\n",
    "    check_cas, get_smiles_from_cas, canonicalize_smiles,\n",
    "    get_iupac_name_from_smiles, get_smiles_from_name)"
   ]
  },
  {
   "cell_type": "code",
   "execution_count": 5,
   "metadata": {
    "collapsed": false
   },
   "outputs": [],
   "source": [
    "assert low.CAS.apply(check_cas).all()"
   ]
  },
  {
   "cell_type": "code",
   "execution_count": 6,
   "metadata": {
    "collapsed": false
   },
   "outputs": [
    {
     "name": "stdout",
     "output_type": "stream",
     "text": [
      "error with CAS: 18459-51-3, \t list index out of range\n",
      "error with CAS: 818-57-5, \t list index out of range\n",
      "error with CAS: 1567-14-2, \t list index out of range\n"
     ]
    }
   ],
   "source": [
    "low['SMILES'] = low.CAS.apply(get_smiles_from_cas, db='nist')"
   ]
  },
  {
   "cell_type": "code",
   "execution_count": 7,
   "metadata": {
    "collapsed": false
   },
   "outputs": [
    {
     "data": {
      "text/html": [
       "<div>\n",
       "<table border=\"1\" class=\"dataframe\">\n",
       "  <thead>\n",
       "    <tr style=\"text-align: right;\">\n",
       "      <th></th>\n",
       "      <th>Species</th>\n",
       "      <th>Type</th>\n",
       "      <th>CAS</th>\n",
       "      <th>Ref</th>\n",
       "      <th>YSI</th>\n",
       "      <th>SMILES</th>\n",
       "    </tr>\n",
       "  </thead>\n",
       "  <tbody>\n",
       "    <tr>\n",
       "      <th>195</th>\n",
       "      <td>2-butylhexanal</td>\n",
       "      <td>Saturated Aldehydes</td>\n",
       "      <td>18459-51-3</td>\n",
       "      <td>3</td>\n",
       "      <td>27.6</td>\n",
       "      <td>None</td>\n",
       "    </tr>\n",
       "    <tr>\n",
       "      <th>251</th>\n",
       "      <td>methyl-4-pentenoate</td>\n",
       "      <td>Unsaturated Esters</td>\n",
       "      <td>818-57-5</td>\n",
       "      <td>4</td>\n",
       "      <td>4.5</td>\n",
       "      <td>None</td>\n",
       "    </tr>\n",
       "    <tr>\n",
       "      <th>260</th>\n",
       "      <td>methyl-2-methyl-2-pentenoate</td>\n",
       "      <td>Unsaturated Esters</td>\n",
       "      <td>1567-14-2</td>\n",
       "      <td>4</td>\n",
       "      <td>18.0</td>\n",
       "      <td>None</td>\n",
       "    </tr>\n",
       "  </tbody>\n",
       "</table>\n",
       "</div>"
      ],
      "text/plain": [
       "                          Species                 Type         CAS  Ref   YSI  \\\n",
       "195                2-butylhexanal  Saturated Aldehydes  18459-51-3    3  27.6   \n",
       "251           methyl-4-pentenoate   Unsaturated Esters    818-57-5    4   4.5   \n",
       "260  methyl-2-methyl-2-pentenoate   Unsaturated Esters   1567-14-2    4  18.0   \n",
       "\n",
       "    SMILES  \n",
       "195   None  \n",
       "251   None  \n",
       "260   None  "
      ]
     },
     "execution_count": 7,
     "metadata": {},
     "output_type": "execute_result"
    }
   ],
   "source": [
    "low[low.SMILES.isnull()]"
   ]
  },
  {
   "cell_type": "code",
   "execution_count": 8,
   "metadata": {
    "collapsed": true
   },
   "outputs": [],
   "source": [
    "low.loc[195, 'SMILES'] = 'CCCCC(CCCC)C=O'\n",
    "low.loc[251, 'SMILES'] = 'COC(=O)CCC=C'\n",
    "low.loc[260, 'SMILES'] = 'CC/C=C(\\C)/C(=O)O'"
   ]
  },
  {
   "cell_type": "code",
   "execution_count": 9,
   "metadata": {
    "collapsed": false
   },
   "outputs": [],
   "source": [
    "assert (low.SMILES != None).all()"
   ]
  },
  {
   "cell_type": "code",
   "execution_count": 10,
   "metadata": {
    "collapsed": true
   },
   "outputs": [],
   "source": [
    "low.SMILES = low.SMILES.apply(canonicalize_smiles)"
   ]
  },
  {
   "cell_type": "code",
   "execution_count": 12,
   "metadata": {
    "collapsed": false
   },
   "outputs": [],
   "source": [
    "assert ~low.SMILES.duplicated().any()"
   ]
  },
  {
   "cell_type": "code",
   "execution_count": 13,
   "metadata": {
    "collapsed": false
   },
   "outputs": [
    {
     "data": {
      "text/html": [
       "<div>\n",
       "<table border=\"1\" class=\"dataframe\">\n",
       "  <thead>\n",
       "    <tr style=\"text-align: right;\">\n",
       "      <th></th>\n",
       "      <th>Species</th>\n",
       "      <th>Type</th>\n",
       "      <th>CAS</th>\n",
       "      <th>Ref</th>\n",
       "      <th>YSI</th>\n",
       "      <th>SMILES</th>\n",
       "    </tr>\n",
       "  </thead>\n",
       "  <tbody>\n",
       "    <tr>\n",
       "      <th>0</th>\n",
       "      <td>n-pentane</td>\n",
       "      <td>Linear Alkanes</td>\n",
       "      <td>109-66-0</td>\n",
       "      <td>3</td>\n",
       "      <td>-8.9</td>\n",
       "      <td>CCCCC</td>\n",
       "    </tr>\n",
       "    <tr>\n",
       "      <th>1</th>\n",
       "      <td>n-hexane</td>\n",
       "      <td>Linear Alkanes</td>\n",
       "      <td>110-54-3</td>\n",
       "      <td>3</td>\n",
       "      <td>0.0</td>\n",
       "      <td>CCCCCC</td>\n",
       "    </tr>\n",
       "    <tr>\n",
       "      <th>2</th>\n",
       "      <td>2-methylpentane</td>\n",
       "      <td>Linear Alkanes</td>\n",
       "      <td>107-83-5</td>\n",
       "      <td>3</td>\n",
       "      <td>9.8</td>\n",
       "      <td>CCCC(C)C</td>\n",
       "    </tr>\n",
       "    <tr>\n",
       "      <th>3</th>\n",
       "      <td>3-methylpentane</td>\n",
       "      <td>Linear Alkanes</td>\n",
       "      <td>96-14-0</td>\n",
       "      <td>3</td>\n",
       "      <td>12.2</td>\n",
       "      <td>CCC(C)CC</td>\n",
       "    </tr>\n",
       "    <tr>\n",
       "      <th>4</th>\n",
       "      <td>2,2-dimethylbutane</td>\n",
       "      <td>Linear Alkanes</td>\n",
       "      <td>75-83-2</td>\n",
       "      <td>3</td>\n",
       "      <td>20.2</td>\n",
       "      <td>CCC(C)(C)C</td>\n",
       "    </tr>\n",
       "  </tbody>\n",
       "</table>\n",
       "</div>"
      ],
      "text/plain": [
       "              Species            Type       CAS  Ref   YSI      SMILES\n",
       "0           n-pentane  Linear Alkanes  109-66-0    3  -8.9       CCCCC\n",
       "1            n-hexane  Linear Alkanes  110-54-3    3   0.0      CCCCCC\n",
       "2     2-methylpentane  Linear Alkanes  107-83-5    3   9.8    CCCC(C)C\n",
       "3     3-methylpentane  Linear Alkanes   96-14-0    3  12.2    CCC(C)CC\n",
       "4  2,2-dimethylbutane  Linear Alkanes   75-83-2    3  20.2  CCC(C)(C)C"
      ]
     },
     "execution_count": 13,
     "metadata": {},
     "output_type": "execute_result"
    }
   ],
   "source": [
    "low.head()"
   ]
  },
  {
   "cell_type": "code",
   "execution_count": 14,
   "metadata": {
    "collapsed": false
   },
   "outputs": [],
   "source": [
    "low.to_pickle('ysi_utils/data/low.p')"
   ]
  }
 ],
 "metadata": {
  "kernelspec": {
   "display_name": "Python 3",
   "language": "python",
   "name": "python3"
  },
  "language_info": {
   "codemirror_mode": {
    "name": "ipython",
    "version": 3
   },
   "file_extension": ".py",
   "mimetype": "text/x-python",
   "name": "python",
   "nbconvert_exporter": "python",
   "pygments_lexer": "ipython3",
   "version": "3.5.1"
  }
 },
 "nbformat": 4,
 "nbformat_minor": 0
}
