{
 "cells": [
  {
   "cell_type": "code",
   "execution_count": 1,
   "metadata": {
    "collapsed": true
   },
   "outputs": [],
   "source": [
    "import numpy as np\n",
    "import pandas as pd\n",
    "\n",
    "import matplotlib.pyplot as plt\n",
    "import seaborn as sns\n",
    "sns.set_style('darkgrid')\n",
    "sns.set_context('talk', font_scale=1.5)\n",
    "sns.set(color_codes=True)\n",
    "\n",
    "%matplotlib inline"
   ]
  },
  {
   "cell_type": "markdown",
   "metadata": {},
   "source": [
    "## Load fitted regression and outlier models"
   ]
  },
  {
   "cell_type": "code",
   "execution_count": 3,
   "metadata": {
    "collapsed": false
   },
   "outputs": [],
   "source": [
    "import warnings\n",
    "with warnings.catch_warnings():\n",
    "    warnings.simplefilter(\"ignore\")\n",
    "    \n",
    "    from ysi_utils.models import outlier_model, bagging_model, ensemble_predict\n",
    "    ensemble_predict.bagging_model = bagging_model()"
   ]
  },
  {
   "cell_type": "markdown",
   "metadata": {},
   "source": [
    "## Load ChEBI data"
   ]
  },
  {
   "cell_type": "code",
   "execution_count": 4,
   "metadata": {
    "collapsed": true
   },
   "outputs": [],
   "source": [
    "from ysi_utils.descriptors import dragon_chebi\n",
    "from ysi_utils.data import chebi, low\n",
    "from ysi_utils.tools.descriptors import get_element_dict, get_DBE\n",
    "\n",
    "dragon_chebi.drop_duplicates()\n",
    "chebi_pred = chebi.set_index('SMILES')"
   ]
  },
  {
   "cell_type": "markdown",
   "metadata": {},
   "source": [
    "Restrict to just the inlier molecules"
   ]
  },
  {
   "cell_type": "code",
   "execution_count": 5,
   "metadata": {
    "collapsed": false
   },
   "outputs": [],
   "source": [
    "chebi_pred = chebi_pred[outlier_model.predict(dragon_chebi.loc[chebi_pred.index]) == 1]"
   ]
  },
  {
   "cell_type": "code",
   "execution_count": 6,
   "metadata": {
    "collapsed": false
   },
   "outputs": [],
   "source": [
    "predictions = pd.DataFrame(ensemble_predict(dragon_chebi.loc[chebi_pred.index]), index=chebi_pred.index)\n",
    "chebi_pred['YSI'] = predictions.mean(1)\n",
    "chebi_pred['YSI_std'] = predictions.std(1)"
   ]
  },
  {
   "cell_type": "code",
   "execution_count": 7,
   "metadata": {
    "collapsed": false
   },
   "outputs": [],
   "source": [
    "chebi_pred['measured'] = chebi_pred.index.isin(low.SMILES)\n",
    "measured_ysi = low.loc[low.SMILES.isin(chebi_pred.index)].set_index('SMILES')['YSI']"
   ]
  },
  {
   "cell_type": "code",
   "execution_count": 8,
   "metadata": {
    "collapsed": false
   },
   "outputs": [],
   "source": [
    "chebi_pred.loc[chebi_pred['measured'], 'YSI'] = measured_ysi\n",
    "chebi_pred.loc[chebi_pred['measured'], 'YSI_std'] = 0.58"
   ]
  },
  {
   "cell_type": "code",
   "execution_count": 9,
   "metadata": {
    "collapsed": false
   },
   "outputs": [],
   "source": [
    "chebi_pred.reset_index(drop=True).loc[:, ['ChEBI', 'Name', 'CAS', 'YSI', 'YSI_std', 'measured']\n",
    "                                     ].to_csv('chebi_predictions.csv', index=False, float_format='%.3f')"
   ]
  }
 ],
 "metadata": {
  "anaconda-cloud": {},
  "kernelspec": {
   "display_name": "Python [conda env:ysi]",
   "language": "python",
   "name": "conda-env-ysi-py"
  },
  "language_info": {
   "codemirror_mode": {
    "name": "ipython",
    "version": 3
   },
   "file_extension": ".py",
   "mimetype": "text/x-python",
   "name": "python",
   "nbconvert_exporter": "python",
   "pygments_lexer": "ipython3",
   "version": "3.5.2"
  }
 },
 "nbformat": 4,
 "nbformat_minor": 0
}
