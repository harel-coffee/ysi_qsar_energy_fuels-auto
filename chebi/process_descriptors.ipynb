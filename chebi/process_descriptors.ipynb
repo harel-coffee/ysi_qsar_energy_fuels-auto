{
 "cells": [
  {
   "cell_type": "code",
   "execution_count": 1,
   "metadata": {
    "collapsed": true
   },
   "outputs": [],
   "source": [
    "import pandas as pd\n",
    "from rdkit import Chem"
   ]
  },
  {
   "cell_type": "code",
   "execution_count": 2,
   "metadata": {
    "collapsed": true
   },
   "outputs": [],
   "source": [
    "def process_mol(mol):\n",
    "    \n",
    "    props = mol.GetPropsAsDict()\n",
    "    try: cas = props['CAS Registry Numbers']\n",
    "    except KeyError: cas = None\n",
    "    \n",
    "    return pd.Series({\n",
    "            'SMILES' : Chem.MolToSmiles(mol, isomericSmiles=True),\n",
    "            'Name' : props['ChEBI Name'],\n",
    "            'ChEBI' : props['ChEBI ID'],\n",
    "            'CAS' : cas,\n",
    "        })"
   ]
  },
  {
   "cell_type": "code",
   "execution_count": 3,
   "metadata": {
    "collapsed": false
   },
   "outputs": [],
   "source": [
    "mols = pd.Series(Chem.SDMolSupplier('chebi_subset.sdf'))\n",
    "mol_df = mols.apply(process_mol)"
   ]
  },
  {
   "cell_type": "code",
   "execution_count": 27,
   "metadata": {
    "collapsed": false
   },
   "outputs": [],
   "source": [
    "dragon_descriptors = pd.read_csv('chebi_dragon_output.tsv.gz', sep='\\t', index_col=0)\n",
    "dragon_descriptors.index = mol_df.SMILES\n",
    "dragon_descriptors.drop('NAME', 1, inplace=True)\n",
    "de_duplicated = dragon_descriptors[~dragon_descriptors.index.duplicated()]\n",
    "\n",
    "de_duplicated.to_pickle('../ysi_utils/descriptors/dragon_chebi.p')"
   ]
  },
  {
   "cell_type": "code",
   "execution_count": 28,
   "metadata": {
    "collapsed": false
   },
   "outputs": [],
   "source": [
    "mol_df.to_pickle('../ysi_utils/data/chebi.p')"
   ]
  }
 ],
 "metadata": {
  "kernelspec": {
   "display_name": "Python 3",
   "language": "python",
   "name": "python3"
  },
  "language_info": {
   "codemirror_mode": {
    "name": "ipython",
    "version": 3
   },
   "file_extension": ".py",
   "mimetype": "text/x-python",
   "name": "python",
   "nbconvert_exporter": "python",
   "pygments_lexer": "ipython3",
   "version": "3.5.1"
  }
 },
 "nbformat": 4,
 "nbformat_minor": 0
}
